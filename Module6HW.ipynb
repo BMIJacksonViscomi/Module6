{
 "cells": [
  {
   "cell_type": "markdown",
   "id": "8f8cce33",
   "metadata": {},
   "source": [
    "1.a\n",
    "Using the print() function only, get the wrong_add_function to print out where\n",
    "it is making a mistake, given the expected output for ex, \"we are making an error \n",
    "in the loop\", which you would put near the loop. \n",
    "Structure the print() statement to show what the expected output ought to be\n",
    "via f-strings: ie \"The correct answer is supposed to be: [...]\"."
   ]
  },
  {
   "cell_type": "code",
   "execution_count": 179,
   "id": "f5d0a828",
   "metadata": {},
   "outputs": [
    {
     "name": "stdout",
     "output_type": "stream",
     "text": [
      "This is wrong. arg_2_sum is 6, where as it should be 2\n",
      "This is wrong. arg_2_sum is 9, where as it should be 3\n",
      "This is wrong. arg_2_sum is 12, where as it should be 4\n"
     ]
    },
    {
     "data": {
      "text/plain": [
       "[6, 9, 12]"
      ]
     },
     "execution_count": 179,
     "metadata": {},
     "output_type": "execute_result"
    }
   ],
   "source": [
    "def wrong_add_function(arg1,arg2):\n",
    "   '''\n",
    "   The function takes in two lists of integers, then it adds\n",
    "   all of arg2 to each item of arg1.\n",
    "   \n",
    "   Example:\n",
    "      > wrong_add_function([1,2,3],[1,1,1])\n",
    "      > [6,9,12]\n",
    "   whereas the expected correct answer is, [2,3,4]\n",
    "   Parameters\n",
    "   ----------\n",
    "   arg1 : list\n",
    "      list of integers.\n",
    "   arg2 : list\n",
    "      list of integers.\n",
    "   Returns\n",
    "   -------\n",
    "   arg1 : list\n",
    "      Elements of arg1, with each element having had the contents of \n",
    "      arg2 added to it.\n",
    "   '''\n",
    "   arg1_index=0\n",
    "   while arg1_index < len(arg1):\n",
    "      arg_2_sum = 0\n",
    "      for arg2_elements in arg2:\n",
    "         arg_2_sum = sum([arg1[arg1_index]+i for i in arg2]) #I found out this is the error, since it is taking the sum of adding arg1[i] to each in arg2\n",
    "          #for example, arg1[0] = 1 and arg2 = [1,1,1], so it would be sum(1+1,1+1,1+1).\n",
    "      print(f\"This is wrong. arg_2_sum is {arg_2_sum}, where as it should be {arg1[arg1_index] + arg2[arg1_index]}\") #adding print error statement\n",
    "      #this corrects it, since it is just adding arg1[i] + arg2[i] for each element in the two lists \n",
    "      arg1[arg1_index]=arg_2_sum \n",
    "      arg1_index+=1\n",
    "   return arg1\n",
    "arg1 = [1,2,3]\n",
    "arg2 = [1,1,1]\n",
    "q1_a = wrong_add_function(arg1, arg2)\n",
    "q1_a"
   ]
  },
  {
   "cell_type": "markdown",
   "id": "471f6e25",
   "metadata": {},
   "source": [
    "1.b\n",
    "Then, changing as little as possible, modify the function, using the same \n",
    "general structure to output the correct answer. Call this new function \n",
    "correct_add_function() "
   ]
  },
  {
   "cell_type": "code",
   "execution_count": 180,
   "id": "95331b56",
   "metadata": {},
   "outputs": [
    {
     "data": {
      "text/plain": [
       "[2, 3, 4]"
      ]
     },
     "execution_count": 180,
     "metadata": {},
     "output_type": "execute_result"
    }
   ],
   "source": [
    "def correct_add_function(arg1, arg2):\n",
    "    arg1_index=0\n",
    "    while arg1_index < len(arg1):\n",
    "        arg_2_sum = 0\n",
    "        for arg2_elements in arg2:\n",
    "            arg_2_sum = arg1[arg1_index] + arg2[arg1_index] #changing the code to add arg1[i] + arg2[i], instead of summing up arg1\n",
    "        arg1[arg1_index]=arg_2_sum \n",
    "        arg1_index+=1\n",
    "    return arg1\n",
    "arg1 = [1,2,3]\n",
    "arg2 = [1,1,1]\n",
    "q1_b = correct_add_function(arg1, arg2)\n",
    "q1_b"
   ]
  },
  {
   "cell_type": "markdown",
   "id": "7ce16939",
   "metadata": {},
   "source": [
    "2a. Update the numeric section of the function with your changes from 1 for both 2b. and 2c."
   ]
  },
  {
   "cell_type": "code",
   "execution_count": 165,
   "id": "02cc3c44",
   "metadata": {},
   "outputs": [],
   "source": [
    "#see answer in 2b and 2c"
   ]
  },
  {
   "cell_type": "markdown",
   "id": "64e91413",
   "metadata": {},
   "source": [
    "2b.\n",
    "Without modifying the string section code itself or the input directly, \n",
    "write a try, except block that catches the issue with the input below and \n",
    "returns an error message to the user, in case users give invalid inputs,\n",
    "(for example an input of [\"5\",\"2\", 5])\n",
    ": \"Your input argument [1 or 2] at element [n]\n",
    "is not of the expected type. Please change this and rerun. Name this function \n",
    "exception_add_function()"
   ]
  },
  {
   "cell_type": "code",
   "execution_count": 190,
   "id": "bb18b982",
   "metadata": {},
   "outputs": [
    {
     "name": "stdout",
     "output_type": "stream",
     "text": [
      "Your input argument 1 at element 2 is not of the expected type. Please change this and rerun.\n",
      "None None\n"
     ]
    }
   ],
   "source": [
    "def wrong_add_function(arg1,arg2):\n",
    "   #numeric section\n",
    "   if sum([type(i)==int for i in arg1])==len(arg1) and \\\n",
    "      sum([type(i)==int for i in arg2])==len(arg2):\n",
    "        arg1_index=0\n",
    "        while arg1_index < len(arg1):\n",
    "            arg_2_sum = 0\n",
    "            arg_2_sum = arg1[arg1_index] + sum(arg2) #fixing section for 2a. \n",
    "            #this doesn't need to be a loop, just need to change arg1[i] to arg1[i] + sum(arg2) \n",
    "            arg1[arg1_index]=arg_2_sum  \n",
    "            arg1_index+=1\n",
    "        return arg1\n",
    "   #string section\n",
    "   elif sum([type(i)==str for i in arg1])==len(arg1) and \\\n",
    "      sum([type(i)==str for i in arg2])==len(arg2):\n",
    "        arg1_index=0\n",
    "        while arg1_index < len(arg1):\n",
    "            arg_2_sum = ''\n",
    "            for arg2_elements in arg2:\n",
    "                arg_2_sum += arg2_elements\n",
    "            arg1[arg1_index]=arg1[arg1_index]+str(arg_2_sum)\n",
    "            arg1_index+=1\n",
    "        return arg1 \n",
    "\n",
    "def exception_add_function(arg1, arg2):\n",
    "    if sum([type(i)==int for i in arg1])==len(arg1) and \\\n",
    "       sum([type(i)==int for i in arg2])==len(arg2): #checking if both list are all ints\n",
    "        return #if so, break out, no error messages need to be raised\n",
    "    try: \n",
    "        ''.join(arg1) #use join function to check if all items are ints\n",
    "        #or sum(arg1) for ints? \n",
    "    except:\n",
    "        for count, ele in enumerate(arg1): #using enumerate to get index position (count)\n",
    "            if type(ele) == int: #if an element is a int, then run print statement\n",
    "                print(f\"Your input argument 1 at element {count} is not of the expected type. Please change this and rerun.\")\n",
    "    try: \n",
    "        ''.join(arg2) #doing same process for second list\n",
    "        #or sum(arg1) for ints?\n",
    "    except:\n",
    "        for count, ele in enumerate(arg2):\n",
    "            if type(ele) == int:\n",
    "                print(f\"Your input argument 2 at element {count} is not of the expected type.Please change this and rerun.\")\n",
    "#arg_str_1=[1,2,3]\n",
    "#arg_str_2=[1,1,1]\n",
    "arg_str_1=['1','2',3]\n",
    "arg_str_2=['1','1','1']\n",
    "q2_b = print(exception_add_function(arg_str_1,arg_str_2),wrong_add_function(arg_str_1,arg_str_2))\n",
    "\n",
    "q2_b"
   ]
  },
  {
   "cell_type": "markdown",
   "id": "6a134dc1",
   "metadata": {},
   "source": [
    "2.c\n",
    "Without modifying the string section code itself or the input directly, \n",
    "write a try, except block that catches the issue with the input below and \n",
    "gets it to process via the string section. IE, do not, outside the function,\n",
    "change the values of arg_str_1 or arg_str_2. Name this function \n",
    "correction_add_function(), i.e you will not be updating the wrong_add_function,\n",
    "you will simply handle the error of wrong inputs in a seperate function, you want\n",
    "the wrong_add_function to output its current result you are only bolstering the \n",
    "function for edge cases .\n"
   ]
  },
  {
   "cell_type": "code",
   "execution_count": 193,
   "id": "757fe392",
   "metadata": {},
   "outputs": [
    {
     "name": "stdout",
     "output_type": "stream",
     "text": [
      "['1111', '2111', '3111'] None\n"
     ]
    }
   ],
   "source": [
    "def wrong_add_function(arg1,arg2):\n",
    "    #numeric section\n",
    "    if sum([type(i)==int for i in arg1])==len(arg1) and \\\n",
    "       sum([type(i)==int for i in arg2])==len(arg2):\n",
    "        arg1_index=0\n",
    "        while arg1_index < len(arg1):\n",
    "            arg_2_sum = 0\n",
    "            arg_2_sum = arg1[arg1_index] + sum(arg2) #fixing section for 2a. \n",
    "            #this doesn't need to be a loop, just need to change arg1[i] to arg1[i] + sum(arg2) \n",
    "            arg1[arg1_index]=arg_2_sum  \n",
    "            arg1_index+=1\n",
    "        return arg1\n",
    "   #string section\n",
    "    elif sum([type(i)==str for i in arg1])==len(arg1) and \\\n",
    "      sum([type(i)==str for i in arg2])==len(arg2):\n",
    "        arg1_index=0\n",
    "        while arg1_index < len(arg1):\n",
    "            arg_2_sum = ''\n",
    "            for arg2_elements in arg2:\n",
    "                arg_2_sum += arg2_elements\n",
    "            arg1[arg1_index]=arg1[arg1_index]+str(arg_2_sum)\n",
    "            arg1_index+=1\n",
    "        return arg1\n",
    "\n",
    "def correction_add_function(arg1,arg2):\n",
    "    if sum([type(i)==int for i in arg1])==len(arg1) and \\\n",
    "       sum([type(i)==int for i in arg2])==len(arg2): #checking if both list are all ints\n",
    "        \n",
    "        return #if so, break out, no changes need to be made\n",
    "    else:\n",
    "        try:\n",
    "            ''.join(arg1) + ''.join(arg2)\n",
    "        except:\n",
    "            arg1 = [str(i) for i in arg1]\n",
    "            arg2 = [str(i) for i in arg2]\n",
    "            arg1_index=0\n",
    "            while arg1_index < len(arg1):\n",
    "                arg_2_sum = ''\n",
    "                for arg2_elements in arg2:\n",
    "                    arg_2_sum += arg2_elements\n",
    "                arg1[arg1_index]=arg1[arg1_index]+str(arg_2_sum)\n",
    "                arg1_index+=1\n",
    "            return arg1 #using print() instead of return so list can be seen in output   \n",
    "\n",
    "#arg_str_1=[1,2,3]\n",
    "#arg_str_2=[1,1,1]        \n",
    "arg_str_1=['1','2',3]\n",
    "arg_str_2=['1','1', '1']\n",
    "correction_add_function(arg_str_1,arg_str_2)\n",
    "wrong_add_function(arg_str_1,arg_str_2)\n",
    "q2_c = print(correction_add_function(arg_str_1,arg_str_2),wrong_add_function(arg_str_1,arg_str_2))\n",
    "\n",
    "q2_c"
   ]
  }
 ],
 "metadata": {
  "kernelspec": {
   "display_name": "Python 3",
   "language": "python",
   "name": "python3"
  },
  "language_info": {
   "codemirror_mode": {
    "name": "ipython",
    "version": 3
   },
   "file_extension": ".py",
   "mimetype": "text/x-python",
   "name": "python",
   "nbconvert_exporter": "python",
   "pygments_lexer": "ipython3",
   "version": "3.8.8"
  }
 },
 "nbformat": 4,
 "nbformat_minor": 5
}
